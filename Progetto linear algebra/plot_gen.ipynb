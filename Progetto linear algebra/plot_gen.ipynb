{
 "cells": [
  {
   "cell_type": "markdown",
   "metadata": {},
   "source": [
    "# Tool for benchmark plotting"
   ]
  },
  {
   "cell_type": "code",
   "execution_count": 3,
   "metadata": {},
   "outputs": [],
   "source": [
    "import matplotlib.pyplot as plt"
   ]
  },
  {
   "cell_type": "markdown",
   "metadata": {},
   "source": [
    "### Importing files and first clean"
   ]
  },
  {
   "cell_type": "code",
   "execution_count": 40,
   "metadata": {},
   "outputs": [
    {
     "data": {
      "text/plain": [
       "{'Linux4luglio': \"{'matrix': 'ex15.mtx', 'relative_error': '6,365779005860785e-07', 'memory_peak': '21,48606777191162', 'read_times': '0,05168867111206055;0,04538321495056152;0,047339439392089844;0,04447650909423828;0,04662370681762695', 'solve_times': '0,014609098434448242;0,012906789779663086;0,012797117233276367;0,012879371643066406;0,01265859603881836'}\\n\"}"
      ]
     },
     "execution_count": 40,
     "metadata": {},
     "output_type": "execute_result"
    }
   ],
   "source": [
    "with open('results.txt') as f:\n",
    "    lines = f.readlines()\n",
    "\n",
    "# cleaning\n",
    "benchmarks = {}\n",
    "\n",
    "for line in lines:\n",
    "    key, value = lines[0].split('__')\n",
    "    benchmarks[key] = []\n",
    "    clean_value(value)\n",
    "\n",
    "benchmarks"
   ]
  },
  {
   "cell_type": "code",
   "execution_count": 15,
   "metadata": {},
   "outputs": [
    {
     "name": "stdout",
     "output_type": "stream",
     "text": [
      "A\n"
     ]
    }
   ],
   "source": [
    "if lines[12] == '\\n':\n",
    "    print('A')"
   ]
  },
  {
   "cell_type": "code",
   "execution_count": null,
   "metadata": {},
   "outputs": [],
   "source": []
  },
  {
   "cell_type": "code",
   "execution_count": null,
   "metadata": {},
   "outputs": [],
   "source": []
  },
  {
   "cell_type": "code",
   "execution_count": null,
   "metadata": {},
   "outputs": [],
   "source": []
  }
 ],
 "metadata": {
  "kernelspec": {
   "display_name": "Python 3.8.13 ('scientific_calc')",
   "language": "python",
   "name": "python3"
  },
  "language_info": {
   "codemirror_mode": {
    "name": "ipython",
    "version": 3
   },
   "file_extension": ".py",
   "mimetype": "text/x-python",
   "name": "python",
   "nbconvert_exporter": "python",
   "pygments_lexer": "ipython3",
   "version": "3.8.13"
  },
  "orig_nbformat": 4,
  "vscode": {
   "interpreter": {
    "hash": "8aef9ea7c228f10cf709f836e2ea5ae225f7a79d06937fe6abe52ac8f81e97db"
   }
  }
 },
 "nbformat": 4,
 "nbformat_minor": 2
}
